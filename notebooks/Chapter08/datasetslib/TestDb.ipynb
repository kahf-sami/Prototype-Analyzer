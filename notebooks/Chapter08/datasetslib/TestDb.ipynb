{
 "cells": [
  {
   "cell_type": "code",
   "execution_count": null,
   "metadata": {},
   "outputs": [],
   "source": [
    "import os\n",
    "import tarfile\n",
    "import numpy as np\n",
    "\n",
    "\n",
    "datasets_root = './datasets'\n",
    "from .text import TextDataset\n",
    "from . import util\n",
    "\n",
    "class PTBSimple(TextDataset):\n",
    "    def __init__(self):\n",
    "        TextDataset.__init__(self)\n",
    "        self.dataset_name='ptb-simple'\n",
    "        self.source_url='http://www.fit.vutbr.cz/~imikolov/rnnlm/'\n",
    "        self.source_files=['simple-examples.tgz']\n",
    "        self.dataset_home=os.path.join(datasets_root,self.dataset_name)\n",
    "\n",
    "    def load_data(self,force=False):\n",
    "        self.downloaded_files=util.download_dataset(source_url=self.source_url,\n",
    "                                                    source_files=self.source_files,\n",
    "                                                    dest_dir = self.dataset_home,\n",
    "                                                    force=force,\n",
    "                                                    extract=False)\n",
    "\n",
    "        trainfile ='./simple-examples/data/ptb.train.txt'\n",
    "        validfile = './simple-examples/data/ptb.valid.txt'\n",
    "        testfile = './simple-examples/data/ptb.test.txt'\n",
    "\n",
    "        with tarfile.open(os.path.join(self.dataset_home,self.downloaded_files[0])) as archfile:\n",
    "            f = archfile.extractfile(trainfile)\n",
    "            word2id = self.build_word2id(self.read_words(f))\n",
    "\n",
    "            f.seek(0)\n",
    "            self.part['train'] = self.build_file2id(f,word2id)\n",
    "\n",
    "            f = archfile.extractfile(validfile)\n",
    "            self.part['valid'] = self.build_file2id(f,word2id)\n",
    "\n",
    "            f = archfile.extractfile(testfile)\n",
    "            self.part['test'] = self.build_file2id(f,word2id)\n",
    "\n",
    "            self.vocab_len = len(word2id)\n",
    "            self.id2word = self.build_id2word(word2id)\n",
    "        return self.part['train'], self.part['valid'], self.part['test']"
   ]
  }
 ],
 "metadata": {
  "kernelspec": {
   "display_name": "Python 3",
   "language": "python",
   "name": "python3"
  },
  "language_info": {
   "codemirror_mode": {
    "name": "ipython",
    "version": 3
   },
   "file_extension": ".py",
   "mimetype": "text/x-python",
   "name": "python",
   "nbconvert_exporter": "python",
   "pygments_lexer": "ipython3",
   "version": "3.6.7"
  }
 },
 "nbformat": 4,
 "nbformat_minor": 2
}
