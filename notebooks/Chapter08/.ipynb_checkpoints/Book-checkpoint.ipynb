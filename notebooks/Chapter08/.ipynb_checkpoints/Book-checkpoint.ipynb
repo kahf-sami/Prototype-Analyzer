{
 "cells": [
  {
   "cell_type": "code",
   "execution_count": 1,
   "metadata": {},
   "outputs": [
    {
     "name": "stdout",
     "output_type": "stream",
     "text": [
      "NumPy:1.15.4\n",
      "Matplotlib:3.0.2\n",
      "TensorFlow:1.12.0\n"
     ]
    }
   ],
   "source": [
    "import os\n",
    "\n",
    "import numpy as np\n",
    "np.random.seed(123)\n",
    "print(\"NumPy:{}\".format(np.__version__))\n",
    "\n",
    "import matplotlib as mpl\n",
    "import matplotlib.pyplot as plt\n",
    "from matplotlib.pylab import rcParams\n",
    "rcParams['figure.figsize']=15,10\n",
    "print(\"Matplotlib:{}\".format(mpl.__version__))\n",
    "\n",
    "import tensorflow as tf\n",
    "tf.set_random_seed(123)\n",
    "print(\"TensorFlow:{}\".format(tf.__version__))"
   ]
  },
  {
   "cell_type": "code",
   "execution_count": 2,
   "metadata": {},
   "outputs": [
    {
     "name": "stdout",
     "output_type": "stream",
     "text": [
      "/notebooks/Chapter08/datasetslib\n",
      "/notebooks/Chapter08/datasets\n"
     ]
    }
   ],
   "source": [
    "dir_path = os.path.dirname(os.path.realpath(\"__file__\"))\n",
    "DATASETSLIB_HOME = os.path.join(dir_path,'datasetslib')\n",
    "print(DATASETSLIB_HOME)\n",
    "\n",
    "import sys\n",
    "if not DATASETSLIB_HOME in sys.path:\n",
    "    sys.path.append(DATASETSLIB_HOME)\n",
    "    \n",
    "# IPython extension to reload modules before executing user code.\n",
    "# autoreload reloads modules automatically before entering the execution of code typed at the IPython prompt.\n",
    "%reload_ext autoreload\n",
    "%autoreload 2\n",
    "\n",
    "\n",
    "import datasetslib\n",
    "\n",
    "#from datasetslib import util as dsu\n",
    "import datasetslib.utils.nputil as nputil1\n",
    "\n",
    "datasetslib.datasets_root = os.path.join(dir_path,'datasets')\n",
    "print(datasetslib.datasets_root)"
   ]
  },
  {
   "cell_type": "code",
   "execution_count": 3,
   "metadata": {},
   "outputs": [
    {
     "name": "stdout",
     "output_type": "stream",
     "text": [
      "Chapter08/datasetslib/util.py\n",
      "source_files:\n",
      "['simple-examples.tgz']\n",
      "dest_files:\n",
      "['simple-examples.tgz']\n",
      "Already exists: ./datasets/ptb-simple/simple-examples.tgz\n",
      "Train : [9970 9971 9972 9974 9975]\n",
      "Test:  [102  14  24  32 752]\n",
      "Valid:  [1132   93  358    5  329]\n",
      "Vocabulary Length =  10000\n"
     ]
    }
   ],
   "source": [
    "from datasetslib.ptb import PTBSimple\n",
    "ptb = PTBSimple()\n",
    "# downloads data, converts words to ids, converts files to a list of ids\n",
    "ptb.load_data()\n",
    "print('Train :', ptb.part['train'][0:5])\n",
    "print('Test: ', ptb.part['test'][0:5])\n",
    "print('Valid: ', ptb.part['valid'][0:5])\n",
    "print('Vocabulary Length = ', ptb.vocab_len)"
   ]
  },
  {
   "cell_type": "code",
   "execution_count": 10,
   "metadata": {},
   "outputs": [
    {
     "name": "stdout",
     "output_type": "stream",
     "text": [
      "-- in BHOT --\n",
      "Dataset path: ./datasets/bhot/raw\n"
     ]
    }
   ],
   "source": [
    "from datasetslib.bhot import BHOT\n",
    "bhot = BHOT()\n",
    "bhot.loadData()"
   ]
  },
  {
   "cell_type": "code",
   "execution_count": null,
   "metadata": {},
   "outputs": [],
   "source": []
  }
 ],
 "metadata": {
  "kernelspec": {
   "display_name": "Python 3",
   "language": "python",
   "name": "python3"
  },
  "language_info": {
   "codemirror_mode": {
    "name": "ipython",
    "version": 3
   },
   "file_extension": ".py",
   "mimetype": "text/x-python",
   "name": "python",
   "nbconvert_exporter": "python",
   "pygments_lexer": "ipython3",
   "version": "3.6.7"
  }
 },
 "nbformat": 4,
 "nbformat_minor": 2
}
