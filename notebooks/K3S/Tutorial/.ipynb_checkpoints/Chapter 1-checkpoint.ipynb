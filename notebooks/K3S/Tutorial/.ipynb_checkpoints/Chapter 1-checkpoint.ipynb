{
 "cells": [
  {
   "cell_type": "code",
   "execution_count": 5,
   "metadata": {},
   "outputs": [
    {
     "name": "stdout",
     "output_type": "stream",
     "text": [
      "b'Bismillah'\n"
     ]
    }
   ],
   "source": [
    "import tensorflow as tf\n",
    "\n",
    "tfs = tf.InteractiveSession()\n",
    "\n",
    "helloVar = tf.constant(\"Bismillah\")\n",
    "\n",
    "print(tfs.run(helloVar))"
   ]
  },
  {
   "cell_type": "code",
   "execution_count": 6,
   "metadata": {},
   "outputs": [
    {
     "name": "stdout",
     "output_type": "stream",
     "text": [
      "c1 (x): Tensor(\"x:0\", shape=(), dtype=int32)\n"
     ]
    }
   ],
   "source": [
    "c1 = tf.constant(5, name = \"x\")\n",
    "print(\"c1 (x):\", c1)"
   ]
  },
  {
   "cell_type": "code",
   "execution_count": 7,
   "metadata": {},
   "outputs": [
    {
     "name": "stdout",
     "output_type": "stream",
     "text": [
      "c2 (y): Tensor(\"y:0\", shape=(), dtype=float32)\n"
     ]
    }
   ],
   "source": [
    "c2 = tf.constant(6.0, name = \"y\")\n",
    "print(\"c2 (y):\", c2)"
   ]
  },
  {
   "cell_type": "code",
   "execution_count": 13,
   "metadata": {},
   "outputs": [
    {
     "name": "stdout",
     "output_type": "stream",
     "text": [
      "c3 (z): Tensor(\"z:0\", shape=(), dtype=float32)\n"
     ]
    }
   ],
   "source": [
    "c3 = tf.constant(7.0,dtype=tf.float32,name=\"z\")\n",
    "print(\"c3 (z):\", c3)"
   ]
  },
  {
   "cell_type": "code",
   "execution_count": 15,
   "metadata": {},
   "outputs": [
    {
     "name": "stdout",
     "output_type": "stream",
     "text": [
      "run(c1, c2, c3): [5, 6.0, 7.0]\n"
     ]
    }
   ],
   "source": [
    "print(\"run(c1, c2, c3):\", tfs.run([c1, c2, c3]))"
   ]
  },
  {
   "cell_type": "code",
   "execution_count": 17,
   "metadata": {},
   "outputs": [
    {
     "name": "stdout",
     "output_type": "stream",
     "text": [
      "op1:  Tensor(\"Add_1:0\", shape=(), dtype=float32)\n",
      "run(op1):  13.0\n"
     ]
    }
   ],
   "source": [
    "op1 = tf.add(c3, c2)\n",
    "print(\"op1: \", op1)\n",
    "print(\"run(op1): \", tfs.run(op1))"
   ]
  },
  {
   "cell_type": "code",
   "execution_count": 19,
   "metadata": {},
   "outputs": [
    {
     "name": "stdout",
     "output_type": "stream",
     "text": [
      "op2:  Tensor(\"Mul:0\", shape=(), dtype=float32)\n",
      "run(op2):  42.0\n"
     ]
    }
   ],
   "source": [
    "op2 = tf.multiply(c3, c2)\n",
    "print(\"op2: \", op2)\n",
    "print(\"run(op2): \", tfs.run(op2))"
   ]
  },
  {
   "cell_type": "code",
   "execution_count": 22,
   "metadata": {},
   "outputs": [
    {
     "name": "stdout",
     "output_type": "stream",
     "text": [
      "P1 :  Tensor(\"Px:0\", dtype=float32)\n",
      "P2 :  Tensor(\"Py:0\", dtype=float32)\n",
      "run(op3):  28.5\n",
      "run(op3):  [28.5  8. ]\n"
     ]
    }
   ],
   "source": [
    "p1 = tf.placeholder(tf.float32, name=\"Px\")\n",
    "p2 = tf.placeholder(tf.float32, name=\"Py\")\n",
    "op3 = p1 * p2\n",
    "\n",
    "print(\"P1 : \", p1)\n",
    "print(\"P2 : \", p2)\n",
    "print(\"run(op3): \", tfs.run(op3, feed_dict = {p1: 3.0, p2: 9.5}))\n",
    "print(\"run(op3): \", tfs.run(op3, feed_dict = {p1: [3.0, 8.0], p2: [9.5, 1.0]}))"
   ]
  },
  {
   "cell_type": "code",
   "execution_count": 25,
   "metadata": {},
   "outputs": [
    {
     "name": "stdout",
     "output_type": "stream",
     "text": [
      "d2Array shape: (3, 3)\n",
      "tf_d2T: Tensor(\"Const_5:0\", shape=(3, 3), dtype=float64)\n",
      "tf_d2T[0][0]: Tensor(\"strided_slice_3:0\", shape=(), dtype=float64)\n",
      "run(tf_d2T): \n",
      " [[1. 2. 3.]\n",
      " [4. 5. 6.]\n",
      " [7. 8. 9.]]\n",
      "run(tf_d2T[0][0]): 1.0\n"
     ]
    }
   ],
   "source": [
    "import numpy as np\n",
    "\n",
    "d2Array = np.array([(1, 2, 3),\n",
    "                    (4, 5, 6),\n",
    "                    (7, 8, 9)])\n",
    "print('d2Array shape:', d2Array.shape)\n",
    "tf_d2T = tf.convert_to_tensor(d2Array, dtype=tf.float64)\n",
    "\n",
    "print('tf_d2T:', tf_d2T)\n",
    "print('tf_d2T[0][0]:', tf_d2T[0][0])\n",
    "print('run(tf_d2T): \\n', tfs.run(tf_d2T))\n",
    "print('run(tf_d2T[0][0]):', tfs.run(tf_d2T[0][0]))\n"
   ]
  },
  {
   "cell_type": "code",
   "execution_count": 38,
   "metadata": {},
   "outputs": [
    {
     "name": "stdout",
     "output_type": "stream",
     "text": [
      "w:  <tf.Variable 'Variable_21:0' shape=(2,) dtype=float32_ref>\n",
      "b:  <tf.Variable 'Variable_22:0' shape=(2,) dtype=float32_ref>\n",
      "x:  Tensor(\"Placeholder_12:0\", dtype=float32)\n",
      "y:  Tensor(\"sub_6:0\", dtype=float32)\n",
      "run(y, {x: [(1, 2), (3, 4)]}): [[0. 2.]\n",
      " [2. 4.]]\n"
     ]
    }
   ],
   "source": [
    "w = tf.Variable([1.0, 1.0], tf.float32)\n",
    "b = tf.Variable([1.0, 0.0], tf.float32)\n",
    "x = tf.placeholder(tf.float32)\n",
    "y = w * x - b\n",
    "\n",
    "print('w: ', w)\n",
    "print('b: ', b)\n",
    "print('x: ', x)\n",
    "print('y: ', y) \n",
    "\n",
    "tfs.run(tf.global_variables_initializer())\n",
    "\n",
    "print('run(y, {x: [(1, 2), (3, 4)]}):',  tfs.run(y, {x: [(1, 2), (3, 4)]}))"
   ]
  },
  {
   "cell_type": "code",
   "execution_count": 39,
   "metadata": {},
   "outputs": [],
   "source": [
    "tfs.close()"
   ]
  },
  {
   "cell_type": "code",
   "execution_count": 49,
   "metadata": {},
   "outputs": [
    {
     "name": "stdout",
     "output_type": "stream",
     "text": [
      "output:  [0. 1. 2. 3.]\n"
     ]
    }
   ],
   "source": [
    "w1 = tf.Variable([1.0], tf.float32)\n",
    "b1 = tf.Variable([1.0], tf.float32)\n",
    "x1 = tf.placeholder(tf.float32)\n",
    "y1 = w1 * x1 - b1\n",
    "output = 0\n",
    "\n",
    "with tf.Session() as tfs:\n",
    "    #init = tf.initialize_all_variables()\n",
    "    init = tf.global_variables_initializer()\n",
    "    tfs.run(init)\n",
    "    \n",
    "    print('output: ', tfs.run(y1, {x1: [1, 2, 3, 4]}))"
   ]
  },
  {
   "cell_type": "code",
   "execution_count": 51,
   "metadata": {},
   "outputs": [
    {
     "name": "stdout",
     "output_type": "stream",
     "text": [
      "[name: \"/device:CPU:0\"\n",
      "device_type: \"CPU\"\n",
      "memory_limit: 268435456\n",
      "locality {\n",
      "}\n",
      "incarnation: 11909616481873929125\n",
      ", name: \"/device:XLA_CPU:0\"\n",
      "device_type: \"XLA_CPU\"\n",
      "memory_limit: 17179869184\n",
      "locality {\n",
      "}\n",
      "incarnation: 9832906514813486721\n",
      "physical_device_desc: \"device: XLA_CPU device\"\n",
      "]\n"
     ]
    }
   ],
   "source": [
    "from tensorflow.python.client import device_lib\n",
    "\n",
    "print(device_lib.list_local_devices())"
   ]
  },
  {
   "cell_type": "code",
   "execution_count": 69,
   "metadata": {},
   "outputs": [
    {
     "name": "stdout",
     "output_type": "stream",
     "text": [
      "---\n",
      "[0. 1. 2. 3.]\n"
     ]
    }
   ],
   "source": [
    "w2 = tf.Variable([1.0], tf.float32)\n",
    "b2 = tf.Variable([1.0], tf.float32)\n",
    "x2 = tf.placeholder(tf.float32)\n",
    "y2 = w2 * x2 - b2\n",
    "output = 0\n",
    "\n",
    "\n",
    "with tf.Session(config=tf.ConfigProto(log_device_placement=True)) as tfs:\n",
    "    #init = tf.initialize_all_variables()\n",
    "    init = tf.global_variables_initializer()\n",
    "    tfs.run(init)\n",
    "    print('---')\n",
    "    print(tfs.run(y2, {x2: [1, 2, 3, 4]}))"
   ]
  },
  {
   "cell_type": "code",
   "execution_count": null,
   "metadata": {},
   "outputs": [],
   "source": []
  }
 ],
 "metadata": {
  "kernelspec": {
   "display_name": "Python 3",
   "language": "python",
   "name": "python3"
  },
  "language_info": {
   "codemirror_mode": {
    "name": "ipython",
    "version": 3
   },
   "file_extension": ".py",
   "mimetype": "text/x-python",
   "name": "python",
   "nbconvert_exporter": "python",
   "pygments_lexer": "ipython3",
   "version": "3.6.7"
  }
 },
 "nbformat": 4,
 "nbformat_minor": 2
}
