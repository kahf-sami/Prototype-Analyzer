{
 "cells": [
  {
   "cell_type": "code",
   "execution_count": 1,
   "metadata": {},
   "outputs": [
    {
     "name": "stdout",
     "output_type": "stream",
     "text": [
      "b'Bismillah'\n"
     ]
    }
   ],
   "source": [
    "import tensorflow as tf\n",
    "\n",
    "tfs = tf.InteractiveSession()\n",
    "\n",
    "helloVar = tf.constant(\"Bismillah\")\n",
    "\n",
    "print(tfs.run(helloVar))"
   ]
  },
  {
   "cell_type": "code",
   "execution_count": 2,
   "metadata": {},
   "outputs": [
    {
     "name": "stdout",
     "output_type": "stream",
     "text": [
      "c1 (x): Tensor(\"x:0\", shape=(), dtype=int32)\n"
     ]
    }
   ],
   "source": [
    "c1 = tf.constant(5, name = \"x\")\n",
    "print(\"c1 (x):\", c1)"
   ]
  },
  {
   "cell_type": "code",
   "execution_count": 3,
   "metadata": {},
   "outputs": [
    {
     "name": "stdout",
     "output_type": "stream",
     "text": [
      "c2 (y): Tensor(\"y:0\", shape=(), dtype=float32)\n"
     ]
    }
   ],
   "source": [
    "c2 = tf.constant(6.0, name = \"y\")\n",
    "print(\"c2 (y):\", c2)"
   ]
  },
  {
   "cell_type": "code",
   "execution_count": 4,
   "metadata": {},
   "outputs": [
    {
     "name": "stdout",
     "output_type": "stream",
     "text": [
      "c3 (z): Tensor(\"z:0\", shape=(), dtype=float32)\n"
     ]
    }
   ],
   "source": [
    "c3 = tf.constant(7.0,dtype=tf.float32,name=\"z\")\n",
    "print(\"c3 (z):\", c3)"
   ]
  },
  {
   "cell_type": "code",
   "execution_count": null,
   "metadata": {},
   "outputs": [
    {
     "name": "stdout",
     "output_type": "stream",
     "text": [
      "run(c1, c2, c3): [5, 6.0, 7.0]\n"
     ]
    }
   ],
   "source": [
    "print(\"run(c1, c2, c3):\", tfs.run([c1, c2, c3]))"
   ]
  },
  {
   "cell_type": "code",
   "execution_count": null,
   "metadata": {},
   "outputs": [
    {
     "name": "stdout",
     "output_type": "stream",
     "text": [
      "op1:  Tensor(\"Add:0\", shape=(), dtype=float32)\n",
      "run(op1):  13.0\n"
     ]
    }
   ],
   "source": [
    "op1 = tf.add(c3, c2)\n",
    "print(\"op1: \", op1)\n",
    "print(\"run(op1): \", tfs.run(op1))"
   ]
  },
  {
   "cell_type": "code",
   "execution_count": null,
   "metadata": {},
   "outputs": [
    {
     "name": "stdout",
     "output_type": "stream",
     "text": [
      "op2:  Tensor(\"Mul:0\", shape=(), dtype=float32)\n",
      "run(op2):  42.0\n"
     ]
    }
   ],
   "source": [
    "op2 = tf.multiply(c3, c2)\n",
    "print(\"op2: \", op2)\n",
    "print(\"run(op2): \", tfs.run(op2))"
   ]
  },
  {
   "cell_type": "code",
   "execution_count": null,
   "metadata": {},
   "outputs": [
    {
     "name": "stdout",
     "output_type": "stream",
     "text": [
      "P1 :  Tensor(\"Px:0\", dtype=float32)\n",
      "P2 :  Tensor(\"Py:0\", dtype=float32)\n",
      "run(op3):  28.5\n",
      "run(op3):  [28.5  8. ]\n"
     ]
    }
   ],
   "source": [
    "p1 = tf.placeholder(tf.float32, name=\"Px\")\n",
    "p2 = tf.placeholder(tf.float32, name=\"Py\")\n",
    "op3 = p1 * p2\n",
    "\n",
    "print(\"P1 : \", p1)\n",
    "print(\"P2 : \", p2)\n",
    "print(\"run(op3): \", tfs.run(op3, feed_dict = {p1: 3.0, p2: 9.5}))\n",
    "print(\"run(op3): \", tfs.run(op3, feed_dict = {p1: [3.0, 8.0], p2: [9.5, 1.0]}))"
   ]
  },
  {
   "cell_type": "code",
   "execution_count": null,
   "metadata": {},
   "outputs": [
    {
     "name": "stdout",
     "output_type": "stream",
     "text": [
      "d2Array shape: (3, 3)\n",
      "tf_d2T: Tensor(\"Const_1:0\", shape=(3, 3), dtype=float64)\n",
      "tf_d2T[0][0]: Tensor(\"strided_slice_1:0\", shape=(), dtype=float64)\n",
      "run(tf_d2T): \n",
      " [[1. 2. 3.]\n",
      " [4. 5. 6.]\n",
      " [7. 8. 9.]]\n",
      "run(tf_d2T[0][0]): 1.0\n"
     ]
    }
   ],
   "source": [
    "import numpy as np\n",
    "\n",
    "d2Array = np.array([(1, 2, 3),\n",
    "                    (4, 5, 6),\n",
    "                    (7, 8, 9)])\n",
    "print('d2Array shape:', d2Array.shape)\n",
    "tf_d2T = tf.convert_to_tensor(d2Array, dtype=tf.float64)\n",
    "\n",
    "print('tf_d2T:', tf_d2T)\n",
    "print('tf_d2T[0][0]:', tf_d2T[0][0])\n",
    "print('run(tf_d2T): \\n', tfs.run(tf_d2T))\n",
    "print('run(tf_d2T[0][0]):', tfs.run(tf_d2T[0][0]))\n"
   ]
  },
  {
   "cell_type": "code",
   "execution_count": null,
   "metadata": {},
   "outputs": [
    {
     "name": "stdout",
     "output_type": "stream",
     "text": [
      "w:  <tf.Variable 'Variable:0' shape=(2,) dtype=float32_ref>\n",
      "b:  <tf.Variable 'Variable_1:0' shape=(2,) dtype=float32_ref>\n",
      "x:  Tensor(\"Placeholder:0\", dtype=float32)\n",
      "y:  Tensor(\"sub:0\", dtype=float32)\n",
      "run(y, {x: [(1, 2), (3, 4)]}): [[0. 2.]\n",
      " [2. 4.]]\n"
     ]
    }
   ],
   "source": [
    "w = tf.Variable([1.0, 1.0], tf.float32)\n",
    "b = tf.Variable([1.0, 0.0], tf.float32)\n",
    "x = tf.placeholder(tf.float32)\n",
    "y = w * x - b\n",
    "\n",
    "print('w: ', w)\n",
    "print('b: ', b)\n",
    "print('x: ', x)\n",
    "print('y: ', y) \n",
    "\n",
    "tfs.run(tf.global_variables_initializer())\n",
    "\n",
    "print('run(y, {x: [(1, 2), (3, 4)]}):',  tfs.run(y, {x: [(1, 2), (3, 4)]}))"
   ]
  },
  {
   "cell_type": "code",
   "execution_count": null,
   "metadata": {},
   "outputs": [],
   "source": [
    "tfs.close()"
   ]
  },
  {
   "cell_type": "code",
   "execution_count": null,
   "metadata": {},
   "outputs": [
    {
     "name": "stdout",
     "output_type": "stream",
     "text": [
      "output:  [0. 1. 2. 3.]\n"
     ]
    }
   ],
   "source": [
    "w1 = tf.Variable([1.0], tf.float32)\n",
    "b1 = tf.Variable([1.0], tf.float32)\n",
    "x1 = tf.placeholder(tf.float32)\n",
    "y1 = w1 * x1 - b1\n",
    "output = 0\n",
    "\n",
    "with tf.Session() as tfs:\n",
    "    #init = tf.initialize_all_variables()\n",
    "    init = tf.global_variables_initializer()\n",
    "    tfs.run(init)\n",
    "    \n",
    "    print('output: ', tfs.run(y1, {x1: [1, 2, 3, 4]}))"
   ]
  },
  {
   "cell_type": "code",
   "execution_count": null,
   "metadata": {},
   "outputs": [
    {
     "name": "stdout",
     "output_type": "stream",
     "text": [
      "[name: \"/device:CPU:0\"\n",
      "device_type: \"CPU\"\n",
      "memory_limit: 268435456\n",
      "locality {\n",
      "}\n",
      "incarnation: 634208950483809942\n",
      ", name: \"/device:XLA_CPU:0\"\n",
      "device_type: \"XLA_CPU\"\n",
      "memory_limit: 17179869184\n",
      "locality {\n",
      "}\n",
      "incarnation: 15705098699664175047\n",
      "physical_device_desc: \"device: XLA_CPU device\"\n",
      "]\n"
     ]
    }
   ],
   "source": [
    "from tensorflow.python.client import device_lib\n",
    "\n",
    "print(device_lib.list_local_devices())"
   ]
  },
  {
   "cell_type": "code",
   "execution_count": null,
   "metadata": {},
   "outputs": [
    {
     "name": "stdout",
     "output_type": "stream",
     "text": [
      "---\n",
      "[0. 1. 2. 3.]\n"
     ]
    }
   ],
   "source": [
    "w2 = tf.Variable([1.0], tf.float32)\n",
    "b2 = tf.Variable([1.0], tf.float32)\n",
    "x2 = tf.placeholder(tf.float32)\n",
    "y2 = w2 * x2 - b2\n",
    "output = 0\n",
    "\n",
    "tf.logging.set_verbosity(tf.logging.INFO)\n",
    "with tf.Session(config=tf.ConfigProto(allow_soft_placement=True, log_device_placement=True)) as tfs:\n",
    "    \n",
    "    init = tf.global_variables_initializer()\n",
    "    tfs.run(init)\n",
    "    writer = tf.summary.FileWriter('tflogs', tfs.graph)\n",
    "    print('---')\n",
    "    print(tfs.run(y2, {x2: [1, 2, 3, 4]}))"
   ]
  },
  {
   "cell_type": "code",
   "execution_count": null,
   "metadata": {},
   "outputs": [
    {
     "name": "stdout",
     "output_type": "stream",
     "text": [
      "\u001b[33mW1126 17:02:58.671924 Reloader tf_logging.py:120] Found more than one graph event per run, or there was a metagraph containing a graph_def, as well as one or more graph events.  Overwriting the graph with the newest event.\n",
      "\u001b[0mW1126 17:02:58.671923 140566763906816 tf_logging.py:120] Found more than one graph event per run, or there was a metagraph containing a graph_def, as well as one or more graph events.  Overwriting the graph with the newest event.\n",
      "TensorBoard 1.12.0 at http://945ad8be7456:6006 (Press CTRL+C to quit)\n"
     ]
    }
   ],
   "source": [
    "!tensorboard --logdir=\"tflogs\""
   ]
  },
  {
   "cell_type": "code",
   "execution_count": null,
   "metadata": {},
   "outputs": [],
   "source": [
    "from IPython.display import clear_output, Image, display, HTML\n",
    "\n",
    "def strip_consts(graph_def, max_const_size=32):\n",
    "    \"\"\"Strip large constant values from graph_def.\"\"\"\n",
    "    strip_def = tf.GraphDef()\n",
    "    for n0 in graph_def.node:\n",
    "        n = strip_def.node.add() \n",
    "        n.MergeFrom(n0)\n",
    "        if n.op == 'Const':\n",
    "            tensor = n.attr['value'].tensor\n",
    "            size = len(tensor.tensor_content)\n",
    "            if size > max_const_size:\n",
    "                tensor.tensor_content = \"<stripped %d bytes>\"%size\n",
    "    return strip_def\n",
    "\n",
    "def show_graph(graph_def, max_const_size=32):\n",
    "    \"\"\"Visualize TensorFlow graph.\"\"\"\n",
    "    if hasattr(graph_def, 'as_graph_def'):\n",
    "        graph_def = graph_def.as_graph_def()\n",
    "    strip_def = strip_consts(graph_def, max_const_size=max_const_size)\n",
    "    code = \"\"\"\n",
    "        <script>\n",
    "          function load() {{\n",
    "            document.getElementById(\"{id}\").pbtxt = {data};\n",
    "          }}\n",
    "        </script>\n",
    "        <link rel=\"import\" href=\"https://tensorboard.appspot.com/tf-graph-basic.build.html\" onload=load()>\n",
    "        <div style=\"height:600px\">\n",
    "          <tf-graph-basic id=\"{id}\"></tf-graph-basic>\n",
    "        </div>\n",
    "    \"\"\".format(data=repr(str(strip_def)), id='graph'+str(np.random.rand()))\n",
    "\n",
    "    iframe = \"\"\"\n",
    "        <iframe seamless style=\"width:1200px;height:620px;border:0\" srcdoc=\"{}\"></iframe>\n",
    "    \"\"\".format(code.replace('\"', '&quot;'))\n",
    "    display(HTML(iframe)\n",
    "            \n",
    "show_graph(tf.get_default_graph().as_graph_def())\n",
    "            \n",
    "gdef = tf.GraphDef()\n",
    "from google.protobuf import text_format\n",
    "text_format.Merge(open(\"tf_persistent.pbtxt\").read(), gdef)\n",
    "show_graph(gdef)"
   ]
  },
  {
   "cell_type": "code",
   "execution_count": null,
   "metadata": {},
   "outputs": [],
   "source": []
  }
 ],
 "metadata": {
  "kernelspec": {
   "display_name": "Python 3",
   "language": "python",
   "name": "python3"
  },
  "language_info": {
   "codemirror_mode": {
    "name": "ipython",
    "version": 3
   },
   "file_extension": ".py",
   "mimetype": "text/x-python",
   "name": "python",
   "nbconvert_exporter": "python",
   "pygments_lexer": "ipython3",
   "version": "3.6.7"
  }
 },
 "nbformat": 4,
 "nbformat_minor": 2
}
