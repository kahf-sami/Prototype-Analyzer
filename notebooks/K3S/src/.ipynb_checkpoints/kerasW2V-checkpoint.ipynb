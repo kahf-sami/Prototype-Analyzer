{
 "cells": [
  {
   "cell_type": "code",
   "execution_count": 1,
   "metadata": {},
   "outputs": [],
   "source": [
    "import tensorflow as tf\n",
    "import numpy as np\n",
    "from tensorflow.keras.models import Model\n",
    "from tensorflow.keras.preprocessing import sequence\n",
    "from tensorflow.keras.layers import Embedding, Input, Dense, Reshape, Dot, Add\n",
    "import tensorflow.keras as keras"
   ]
  },
  {
   "cell_type": "code",
   "execution_count": 2,
   "metadata": {},
   "outputs": [],
   "source": [
    "# reset the jupyter buffers\n",
    "tf.reset_default_graph()\n",
    "keras.backend.clear_session()"
   ]
  },
  {
   "cell_type": "code",
   "execution_count": 3,
   "metadata": {},
   "outputs": [
    {
     "name": "stdout",
     "output_type": "stream",
     "text": [
      "valid:  [14 52 47 79 77  2 26 55]\n"
     ]
    }
   ],
   "source": [
    "valid_size = 8\n",
    "# np.random.choice = Generates a random sample from a given 1-D array\n",
    "# https://docs.scipy.org/doc/numpy-1.15.0/reference/generated/numpy.random.choice.html\n",
    "x_valid = np.random.choice(valid_size * 10, valid_size, replace=False)\n",
    "print('valid: ',x_valid)"
   ]
  },
  {
   "cell_type": "code",
   "execution_count": 4,
   "metadata": {},
   "outputs": [
    {
     "name": "stdout",
     "output_type": "stream",
     "text": [
      "NumPy:1.15.4\n",
      "Matplotlib:3.0.2\n",
      "TensorFlow:1.12.0\n"
     ]
    }
   ],
   "source": [
    "import os\n",
    "\n",
    "import numpy as np\n",
    "np.random.seed(123)\n",
    "print(\"NumPy:{}\".format(np.__version__))\n",
    "\n",
    "import matplotlib as mpl\n",
    "import matplotlib.pyplot as plt\n",
    "from matplotlib.pylab import rcParams\n",
    "rcParams['figure.figsize']=15,10\n",
    "print(\"Matplotlib:{}\".format(mpl.__version__))\n",
    "\n",
    "import tensorflow as tf\n",
    "tf.set_random_seed(123)\n",
    "print(\"TensorFlow:{}\".format(tf.__version__))\n",
    "\n"
   ]
  },
  {
   "cell_type": "code",
   "execution_count": 19,
   "metadata": {},
   "outputs": [
    {
     "name": "stdout",
     "output_type": "stream",
     "text": [
      "/notebooks/K3S/src/text8\n",
      "Downloading: http://mattmahoney.net/dc/text8.zip\n",
      "Downloaded : /notebooks/K3S/src/text8/text8.zip ( 31344016 bytes)\n",
      "Train: [5233 3083   11    5  194]\n",
      "Vocab length =  253854\n"
     ]
    }
   ],
   "source": [
    "\n",
    "import datasetslib\n",
    "from datasetslib import text8\n",
    "t8 = text8.Text8()\n",
    "t8.load_data()\n",
    "print('Train:', t8.part['train'][0:5])\n",
    "\n",
    "print('Vocab length = ', t8.vocab_len)"
   ]
  },
  {
   "cell_type": "code",
   "execution_count": 21,
   "metadata": {},
   "outputs": [],
   "source": [
    "t8.skip_window = 2\n",
    "t8.reset_index()\n",
    "x_batch, y_batch = t8.next_batch()"
   ]
  },
  {
   "cell_type": "code",
   "execution_count": null,
   "metadata": {},
   "outputs": [],
   "source": []
  }
 ],
 "metadata": {
  "kernelspec": {
   "display_name": "Python 3",
   "language": "python",
   "name": "python3"
  },
  "language_info": {
   "codemirror_mode": {
    "name": "ipython",
    "version": 3
   },
   "file_extension": ".py",
   "mimetype": "text/x-python",
   "name": "python",
   "nbconvert_exporter": "python",
   "pygments_lexer": "ipython3",
   "version": "3.6.6"
  }
 },
 "nbformat": 4,
 "nbformat_minor": 2
}
