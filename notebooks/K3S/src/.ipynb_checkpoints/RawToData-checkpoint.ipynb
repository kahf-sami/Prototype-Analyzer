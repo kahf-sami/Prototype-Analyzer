{
 "cells": [
  {
   "cell_type": "code",
   "execution_count": 25,
   "metadata": {},
   "outputs": [],
   "source": [
    "import sys, os, json\n",
    "\n",
    "rootPath = os.path.realpath(os.path.dirname(os.getcwd()))\n",
    "\n",
    "libraryPath = os.path.join(rootPath, 'src', 'library')\n",
    "sys.path.append(libraryPath)\n",
    "\n",
    "dataPath = os.path.join(rootPath, 'data', 'bhot', 'raw')\n",
    "vocabPath = os.path.join(rootPath, 'data', 'bhot', 'vocab.csv')\n",
    "import utility\n"
   ]
  },
  {
   "cell_type": "code",
   "execution_count": 24,
   "metadata": {},
   "outputs": [
    {
     "name": "stdout",
     "output_type": "stream",
     "text": [
      "/notebooks/K3S/data/bhot/raw/A_Brief_History_of_Time_-_Stephen_Hawking..._Chapter_8.txt\n",
      "/notebooks/K3S/data/bhot/raw/A_Brief_History_of_Time_-_Stephen_Hawking..._Chapter_9.txt\n",
      "/notebooks/K3S/data/bhot/raw/A_Brief_History_of_Time_-_Stephen_Hawking..._Chapter_12.txt\n",
      "/notebooks/K3S/data/bhot/raw/A_Brief_History_of_Time_-_Stephen_Hawking..._Chapter_11.txt\n",
      "/notebooks/K3S/data/bhot/raw/A_Brief_History_of_Time_-_Stephen_Hawking..._Chapter_10.txt\n",
      "/notebooks/K3S/data/bhot/raw/A_Brief_History_of_Time_-_Stephen_Hawking..._Chapter_4.txt\n",
      "/notebooks/K3S/data/bhot/raw/A_Brief_History_of_Time_-_Stephen_Hawking..._Chapter_5.txt\n",
      "/notebooks/K3S/data/bhot/raw/A_Brief_History_of_Time_-_Stephen_Hawking..._Chapter_7.txt\n",
      "/notebooks/K3S/data/bhot/raw/A_Brief_History_of_Time_-_Stephen_Hawking..._Chapter_6.txt\n",
      "/notebooks/K3S/data/bhot/raw/A_Brief_History_of_Time_-_Stephen_Hawking..._Chapter_2.txt\n",
      "/notebooks/K3S/data/bhot/raw/A_Brief_History_of_Time_-_Stephen_Hawking..._Chapter_3.txt\n",
      "/notebooks/K3S/data/bhot/raw/A_Brief_History_of_Time_-_Stephen_Hawking..._Chapter_1.txt\n"
     ]
    }
   ],
   "source": [
    "for root, dirs, files in os.walk(dataPath):\n",
    "    for file in files:\n",
    "        if file.endswith(\".txt\"):\n",
    "             print(os.path.join(root, file))"
   ]
  },
  {
   "cell_type": "code",
   "execution_count": 18,
   "metadata": {},
   "outputs": [
    {
     "name": "stdout",
     "output_type": "stream",
     "text": [
      "/notebooks/K3S\n"
     ]
    }
   ],
   "source": [
    "rootPath = os.path.realpath(os.path.dirname(os.getcwd()))\n",
    "print(rootPath)"
   ]
  },
  {
   "cell_type": "code",
   "execution_count": 26,
   "metadata": {},
   "outputs": [
    {
     "name": "stdout",
     "output_type": "stream",
     "text": [
      "WARNING:tensorflow:From <ipython-input-26-c510b689522d>:8: VocabularyProcessor.__init__ (from tensorflow.contrib.learn.python.learn.preprocessing.text) is deprecated and will be removed in a future version.\n",
      "Instructions for updating:\n",
      "Please use tensorflow/transform or tf.data.\n",
      "WARNING:tensorflow:From /usr/local/lib/python3.5/dist-packages/tensorflow/contrib/learn/python/learn/preprocessing/text.py:154: CategoricalVocabulary.__init__ (from tensorflow.contrib.learn.python.learn.preprocessing.categorical_vocabulary) is deprecated and will be removed in a future version.\n",
      "Instructions for updating:\n",
      "Please use tensorflow/transform or tf.data.\n",
      "WARNING:tensorflow:From /usr/local/lib/python3.5/dist-packages/tensorflow/contrib/learn/python/learn/preprocessing/text.py:170: tokenizer (from tensorflow.contrib.learn.python.learn.preprocessing.text) is deprecated and will be removed in a future version.\n",
      "Instructions for updating:\n",
      "Please use tensorflow/transform or tf.data.\n",
      "['<UNK>', 'This', 'is', 'a', 'cat', 'must', 'be', 'boy', 'dog']\n",
      "[[1 2 3 4 0]\n",
      " [1 5 6 7 0]\n",
      " [1 2 3 3 8]]\n"
     ]
    }
   ],
   "source": [
    "import numpy as np\n",
    "from tensorflow.contrib import learn\n",
    "\n",
    "x_text = ['This is a cat','This must be boy', 'This is a a dog']\n",
    "max_document_length = max([len(x.split(\" \")) for x in x_text])\n",
    "\n",
    "## Create the vocabularyprocessor object, setting the max lengh of the documents.\n",
    "vocab_processor = learn.preprocessing.VocabularyProcessor(max_document_length)\n",
    "\n",
    "## Transform the documents using the vocabulary.\n",
    "x = np.array(list(vocab_processor.fit_transform(x_text)))    \n",
    "\n",
    "## Extract word:id mapping from the object.\n",
    "vocab_dict = vocab_processor.vocabulary_._mapping\n",
    "\n",
    "## Sort the vocabulary dictionary on the basis of values(id).\n",
    "## Both statements perform same task.\n",
    "#sorted_vocab = sorted(vocab_dict.items(), key=operator.itemgetter(1))\n",
    "sorted_vocab = sorted(vocab_dict.items(), key = lambda x : x[1])\n",
    "\n",
    "## Treat the id's as index into list and create a list of words in the ascending order of id's\n",
    "## word with id i goes at index i of the list.\n",
    "vocabulary = list(list(zip(*sorted_vocab))[0])\n",
    "\n",
    "print(vocabulary)\n",
    "print(x)"
   ]
  },
  {
   "cell_type": "code",
   "execution_count": null,
   "metadata": {},
   "outputs": [],
   "source": [
    "#https://cs230-stanford.github.io/tensorflow-input-data.html"
   ]
  }
 ],
 "metadata": {
  "kernelspec": {
   "display_name": "Python 3",
   "language": "python",
   "name": "python3"
  },
  "language_info": {
   "codemirror_mode": {
    "name": "ipython",
    "version": 3
   },
   "file_extension": ".py",
   "mimetype": "text/x-python",
   "name": "python",
   "nbconvert_exporter": "python",
   "pygments_lexer": "ipython3",
   "version": "3.5.2"
  }
 },
 "nbformat": 4,
 "nbformat_minor": 2
}
