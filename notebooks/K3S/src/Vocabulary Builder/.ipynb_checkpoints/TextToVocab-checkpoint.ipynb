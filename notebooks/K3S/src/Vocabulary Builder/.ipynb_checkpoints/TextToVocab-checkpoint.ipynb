{
 "cells": [
  {
   "cell_type": "code",
   "execution_count": null,
   "metadata": {},
   "outputs": [],
   "source": [
    "vocab = {}\n",
    "\n",
    "import sys, os, json\n",
    "\n",
    "rootPath = os.path.realpath(os.path.dirname(os.getcwd()))\n",
    "\n",
    "libraryPath = os.path.join(rootPath, 'src', 'library')\n",
    "sys.path.append(libraryPath)\n",
    "\n",
    "dataPath = os.path.join(rootPath, 'data', 'bhot', 'raw')\n",
    "vocabPath = os.path.join(rootPath, 'data', 'bhot', 'vocab.csv')\n",
    "import utility\n"
   ]
  }
 ],
 "metadata": {
  "kernelspec": {
   "display_name": "Python 3",
   "language": "python",
   "name": "python3"
  },
  "language_info": {
   "codemirror_mode": {
    "name": "ipython",
    "version": 3
   },
   "file_extension": ".py",
   "mimetype": "text/x-python",
   "name": "python",
   "nbconvert_exporter": "python",
   "pygments_lexer": "ipython3",
   "version": "3.5.2"
  }
 },
 "nbformat": 4,
 "nbformat_minor": 2
}
