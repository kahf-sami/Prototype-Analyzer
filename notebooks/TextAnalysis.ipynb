{
 "cells": [
  {
   "cell_type": "markdown",
   "metadata": {},
   "source": [
    "\n",
    "Text classification with movie reviews\n",
    "\n",
    "\n",
    "URL: https://www.tensorflow.org/tutorials/keras/basic_text_classification"
   ]
  },
  {
   "cell_type": "code",
   "execution_count": 1,
   "metadata": {},
   "outputs": [
    {
     "name": "stdout",
     "output_type": "stream",
     "text": [
      "1.10.1\n"
     ]
    }
   ],
   "source": [
    "import tensorflow as tf\n",
    "from tensorflow import keras\n",
    "\n",
    "import numpy as np\n",
    "\n",
    "print(tf.__version__)"
   ]
  },
  {
   "cell_type": "code",
   "execution_count": 2,
   "metadata": {},
   "outputs": [
    {
     "name": "stdout",
     "output_type": "stream",
     "text": [
      "Downloading data from https://storage.googleapis.com/tensorflow/tf-keras-datasets/imdb.npz\n",
      "17465344/17464789 [==============================] - 7s 0us/step\n"
     ]
    }
   ],
   "source": [
    "imdb = keras.datasets.imdb\n",
    "(train_data, train_labels), (test_data, test_labels) = imdb.load_data(num_words=10000)"
   ]
  },
  {
   "cell_type": "code",
   "execution_count": 5,
   "metadata": {},
   "outputs": [
    {
     "name": "stdout",
     "output_type": "stream",
     "text": [
      "Training entries: 25000, labels: 25000\n"
     ]
    }
   ],
   "source": [
    "print(\"Training entries: {}, labels: {}\".format(len(train_data), len(train_labels)))"
   ]
  },
  {
   "cell_type": "code",
   "execution_count": 6,
   "metadata": {},
   "outputs": [
    {
     "name": "stdout",
     "output_type": "stream",
     "text": [
      "[1, 14, 22, 16, 43, 530, 973, 1622, 1385, 65, 458, 4468, 66, 3941, 4, 173, 36, 256, 5, 25, 100, 43, 838, 112, 50, 670, 2, 9, 35, 480, 284, 5, 150, 4, 172, 112, 167, 2, 336, 385, 39, 4, 172, 4536, 1111, 17, 546, 38, 13, 447, 4, 192, 50, 16, 6, 147, 2025, 19, 14, 22, 4, 1920, 4613, 469, 4, 22, 71, 87, 12, 16, 43, 530, 38, 76, 15, 13, 1247, 4, 22, 17, 515, 17, 12, 16, 626, 18, 2, 5, 62, 386, 12, 8, 316, 8, 106, 5, 4, 2223, 5244, 16, 480, 66, 3785, 33, 4, 130, 12, 16, 38, 619, 5, 25, 124, 51, 36, 135, 48, 25, 1415, 33, 6, 22, 12, 215, 28, 77, 52, 5, 14, 407, 16, 82, 2, 8, 4, 107, 117, 5952, 15, 256, 4, 2, 7, 3766, 5, 723, 36, 71, 43, 530, 476, 26, 400, 317, 46, 7, 4, 2, 1029, 13, 104, 88, 4, 381, 15, 297, 98, 32, 2071, 56, 26, 141, 6, 194, 7486, 18, 4, 226, 22, 21, 134, 476, 26, 480, 5, 144, 30, 5535, 18, 51, 36, 28, 224, 92, 25, 104, 4, 226, 65, 16, 38, 1334, 88, 12, 16, 283, 5, 16, 4472, 113, 103, 32, 15, 16, 5345, 19, 178, 32]\n"
     ]
    }
   ],
   "source": [
    "print(train_data[0])"
   ]
  },
  {
   "cell_type": "code",
   "execution_count": 7,
   "metadata": {},
   "outputs": [
    {
     "name": "stdout",
     "output_type": "stream",
     "text": [
      "Downloading data from https://storage.googleapis.com/tensorflow/tf-keras-datasets/imdb_word_index.json\n",
      "1646592/1641221 [==============================] - 1s 0us/step\n"
     ]
    }
   ],
   "source": [
    "# A dictionary mapping words to an integer index\n",
    "word_index = imdb.get_word_index()\n",
    "\n",
    "# The first indices are reserved\n",
    "word_index = {k:(v+3) for k,v in word_index.items()} \n",
    "word_index[\"<PAD>\"] = 0\n",
    "word_index[\"<START>\"] = 1\n",
    "word_index[\"<UNK>\"] = 2  # unknown\n",
    "word_index[\"<UNUSED>\"] = 3\n",
    "\n",
    "reverse_word_index = dict([(value, key) for (key, value) in word_index.items()])\n",
    "\n",
    "def decode_review(text):\n",
    "    return ' '.join([reverse_word_index.get(i, '?') for i in text])"
   ]
  },
  {
   "cell_type": "code",
   "execution_count": 8,
   "metadata": {},
   "outputs": [
    {
     "data": {
      "text/plain": [
       "\"<START> this film was just brilliant casting location scenery story direction everyone's really suited the part they played and you could just imagine being there robert <UNK> is an amazing actor and now the same being director <UNK> father came from the same scottish island as myself so i loved the fact there was a real connection with this film the witty remarks throughout the film were great it was just brilliant so much that i bought the film as soon as it was released for <UNK> and would recommend it to everyone to watch and the fly fishing was amazing really cried at the end it was so sad and you know what they say if you cry at a film it must have been good and this definitely was also <UNK> to the two little boy's that played the <UNK> of norman and paul they were just brilliant children are often left out of the <UNK> list i think because the stars that play them all grown up are such a big profile for the whole film but these children are amazing and should be praised for what they have done don't you think the whole story was so lovely because it was true and was someone's life after all that was shared with us all\""
      ]
     },
     "execution_count": 8,
     "metadata": {},
     "output_type": "execute_result"
    }
   ],
   "source": [
    "decode_review(train_data[0])\n"
   ]
  },
  {
   "cell_type": "code",
   "execution_count": 9,
   "metadata": {},
   "outputs": [],
   "source": [
    "train_data = keras.preprocessing.sequence.pad_sequences(train_data,\n",
    "                                                        value=word_index[\"<PAD>\"],\n",
    "                                                        padding='post',\n",
    "                                                        maxlen=256)\n",
    "\n",
    "test_data = keras.preprocessing.sequence.pad_sequences(test_data,\n",
    "                                                       value=word_index[\"<PAD>\"],\n",
    "                                                       padding='post',\n",
    "                                                       maxlen=256)"
   ]
  },
  {
   "cell_type": "code",
   "execution_count": 10,
   "metadata": {},
   "outputs": [
    {
     "name": "stdout",
     "output_type": "stream",
     "text": [
      "_________________________________________________________________\n",
      "Layer (type)                 Output Shape              Param #   \n",
      "=================================================================\n",
      "embedding (Embedding)        (None, None, 16)          160000    \n",
      "_________________________________________________________________\n",
      "global_average_pooling1d (Gl (None, 16)                0         \n",
      "_________________________________________________________________\n",
      "dense (Dense)                (None, 16)                272       \n",
      "_________________________________________________________________\n",
      "dense_1 (Dense)              (None, 1)                 17        \n",
      "=================================================================\n",
      "Total params: 160,289\n",
      "Trainable params: 160,289\n",
      "Non-trainable params: 0\n",
      "_________________________________________________________________\n"
     ]
    }
   ],
   "source": [
    "# input shape is the vocabulary count used for the movie reviews (10,000 words)\n",
    "vocab_size = 10000\n",
    "\n",
    "model = keras.Sequential()\n",
    "model.add(keras.layers.Embedding(vocab_size, 16))\n",
    "model.add(keras.layers.GlobalAveragePooling1D())\n",
    "model.add(keras.layers.Dense(16, activation=tf.nn.relu))\n",
    "model.add(keras.layers.Dense(1, activation=tf.nn.sigmoid))\n",
    "\n",
    "model.summary()"
   ]
  },
  {
   "cell_type": "code",
   "execution_count": 11,
   "metadata": {},
   "outputs": [],
   "source": [
    "model.compile(optimizer=tf.train.AdamOptimizer(),\n",
    "              loss='binary_crossentropy',\n",
    "              metrics=['accuracy'])"
   ]
  },
  {
   "cell_type": "code",
   "execution_count": 12,
   "metadata": {},
   "outputs": [],
   "source": [
    "x_val = train_data[:10000]\n",
    "partial_x_train = train_data[10000:]\n",
    "\n",
    "y_val = train_labels[:10000]\n",
    "partial_y_train = train_labels[10000:]"
   ]
  },
  {
   "cell_type": "code",
   "execution_count": 13,
   "metadata": {},
   "outputs": [
    {
     "name": "stdout",
     "output_type": "stream",
     "text": [
      "Train on 15000 samples, validate on 10000 samples\n",
      "Epoch 1/40\n",
      "15000/15000 [==============================] - 1s 67us/step - loss: 0.6969 - acc: 0.5022 - val_loss: 0.6937 - val_acc: 0.5055\n",
      "Epoch 2/40\n",
      "15000/15000 [==============================] - 1s 45us/step - loss: 0.6923 - acc: 0.5169 - val_loss: 0.6914 - val_acc: 0.5238\n",
      "Epoch 3/40\n",
      "15000/15000 [==============================] - 1s 43us/step - loss: 0.6901 - acc: 0.5509 - val_loss: 0.6898 - val_acc: 0.5527\n",
      "Epoch 4/40\n",
      "15000/15000 [==============================] - 1s 46us/step - loss: 0.6878 - acc: 0.6134 - val_loss: 0.6877 - val_acc: 0.5053\n",
      "Epoch 5/40\n",
      "15000/15000 [==============================] - 1s 44us/step - loss: 0.6839 - acc: 0.6329 - val_loss: 0.6820 - val_acc: 0.7334\n",
      "Epoch 6/40\n",
      "15000/15000 [==============================] - 1s 48us/step - loss: 0.6781 - acc: 0.7354 - val_loss: 0.6765 - val_acc: 0.7283\n",
      "Epoch 7/40\n",
      "15000/15000 [==============================] - 1s 51us/step - loss: 0.6710 - acc: 0.7408 - val_loss: 0.6695 - val_acc: 0.7250\n",
      "Epoch 8/40\n",
      "15000/15000 [==============================] - 1s 45us/step - loss: 0.6615 - acc: 0.7529 - val_loss: 0.6599 - val_acc: 0.7286\n",
      "Epoch 9/40\n",
      "15000/15000 [==============================] - 1s 46us/step - loss: 0.6492 - acc: 0.7617 - val_loss: 0.6465 - val_acc: 0.7568\n",
      "Epoch 10/40\n",
      "15000/15000 [==============================] - 1s 42us/step - loss: 0.6300 - acc: 0.7778 - val_loss: 0.6235 - val_acc: 0.7614\n",
      "Epoch 11/40\n",
      "15000/15000 [==============================] - 1s 42us/step - loss: 0.6042 - acc: 0.7725 - val_loss: 0.6025 - val_acc: 0.7550\n",
      "Epoch 12/40\n",
      "15000/15000 [==============================] - 1s 44us/step - loss: 0.5770 - acc: 0.7867 - val_loss: 0.5742 - val_acc: 0.7819\n",
      "Epoch 13/40\n",
      "15000/15000 [==============================] - 1s 43us/step - loss: 0.5465 - acc: 0.8065 - val_loss: 0.5476 - val_acc: 0.7932\n",
      "Epoch 14/40\n",
      "15000/15000 [==============================] - 1s 44us/step - loss: 0.5162 - acc: 0.8170 - val_loss: 0.5201 - val_acc: 0.8055\n",
      "Epoch 15/40\n",
      "15000/15000 [==============================] - 1s 46us/step - loss: 0.4858 - acc: 0.8285 - val_loss: 0.4928 - val_acc: 0.8117\n",
      "Epoch 16/40\n",
      "15000/15000 [==============================] - 1s 44us/step - loss: 0.4570 - acc: 0.8378 - val_loss: 0.4674 - val_acc: 0.8260\n",
      "Epoch 17/40\n",
      "15000/15000 [==============================] - 1s 43us/step - loss: 0.4288 - acc: 0.8527 - val_loss: 0.4443 - val_acc: 0.8347\n",
      "Epoch 18/40\n",
      "15000/15000 [==============================] - 1s 44us/step - loss: 0.4035 - acc: 0.8621 - val_loss: 0.4230 - val_acc: 0.8416\n",
      "Epoch 19/40\n",
      "15000/15000 [==============================] - 2s 111us/step - loss: 0.3808 - acc: 0.8693 - val_loss: 0.4045 - val_acc: 0.8475\n",
      "Epoch 20/40\n",
      "15000/15000 [==============================] - 1s 41us/step - loss: 0.3603 - acc: 0.8785 - val_loss: 0.3883 - val_acc: 0.8520\n",
      "Epoch 21/40\n",
      "15000/15000 [==============================] - 1s 43us/step - loss: 0.3422 - acc: 0.8843 - val_loss: 0.3743 - val_acc: 0.8566\n",
      "Epoch 22/40\n",
      "15000/15000 [==============================] - 1s 44us/step - loss: 0.3260 - acc: 0.8895 - val_loss: 0.3623 - val_acc: 0.8611\n",
      "Epoch 23/40\n",
      "15000/15000 [==============================] - 1s 44us/step - loss: 0.3119 - acc: 0.8941 - val_loss: 0.3524 - val_acc: 0.8646\n",
      "Epoch 24/40\n",
      "15000/15000 [==============================] - 1s 44us/step - loss: 0.2987 - acc: 0.8977 - val_loss: 0.3432 - val_acc: 0.8689\n",
      "Epoch 25/40\n",
      "15000/15000 [==============================] - 1s 45us/step - loss: 0.2871 - acc: 0.9026 - val_loss: 0.3355 - val_acc: 0.8717\n",
      "Epoch 26/40\n",
      "15000/15000 [==============================] - 1s 54us/step - loss: 0.2764 - acc: 0.9049 - val_loss: 0.3293 - val_acc: 0.8730\n",
      "Epoch 27/40\n",
      "15000/15000 [==============================] - 1s 52us/step - loss: 0.2670 - acc: 0.9069 - val_loss: 0.3232 - val_acc: 0.8738\n",
      "Epoch 28/40\n",
      "15000/15000 [==============================] - 1s 50us/step - loss: 0.2576 - acc: 0.9099 - val_loss: 0.3177 - val_acc: 0.8773\n",
      "Epoch 29/40\n",
      "15000/15000 [==============================] - 1s 44us/step - loss: 0.2494 - acc: 0.9121 - val_loss: 0.3137 - val_acc: 0.8779\n",
      "Epoch 30/40\n",
      "15000/15000 [==============================] - 1s 51us/step - loss: 0.2424 - acc: 0.9136 - val_loss: 0.3093 - val_acc: 0.8801\n",
      "Epoch 31/40\n",
      "15000/15000 [==============================] - 1s 47us/step - loss: 0.2343 - acc: 0.9181 - val_loss: 0.3061 - val_acc: 0.8807\n",
      "Epoch 32/40\n",
      "15000/15000 [==============================] - 1s 52us/step - loss: 0.2280 - acc: 0.9194 - val_loss: 0.3030 - val_acc: 0.8809\n",
      "Epoch 33/40\n",
      "15000/15000 [==============================] - 1s 46us/step - loss: 0.2208 - acc: 0.9213 - val_loss: 0.3002 - val_acc: 0.8819\n",
      "Epoch 34/40\n",
      "15000/15000 [==============================] - 1s 52us/step - loss: 0.2147 - acc: 0.9235 - val_loss: 0.2983 - val_acc: 0.8817\n",
      "Epoch 35/40\n",
      "15000/15000 [==============================] - 1s 54us/step - loss: 0.2094 - acc: 0.9261 - val_loss: 0.2958 - val_acc: 0.8847\n",
      "Epoch 36/40\n",
      "15000/15000 [==============================] - 1s 50us/step - loss: 0.2033 - acc: 0.9297 - val_loss: 0.2940 - val_acc: 0.8839\n",
      "Epoch 37/40\n",
      "15000/15000 [==============================] - 1s 51us/step - loss: 0.1981 - acc: 0.9317 - val_loss: 0.2926 - val_acc: 0.8855\n",
      "Epoch 38/40\n",
      "15000/15000 [==============================] - 1s 47us/step - loss: 0.1930 - acc: 0.9326 - val_loss: 0.2911 - val_acc: 0.8863\n",
      "Epoch 39/40\n",
      "15000/15000 [==============================] - 1s 54us/step - loss: 0.1877 - acc: 0.9357 - val_loss: 0.2898 - val_acc: 0.8861\n",
      "Epoch 40/40\n",
      "15000/15000 [==============================] - 1s 48us/step - loss: 0.1830 - acc: 0.9373 - val_loss: 0.2889 - val_acc: 0.8861\n"
     ]
    }
   ],
   "source": [
    "history = model.fit(partial_x_train,\n",
    "                    partial_y_train,\n",
    "                    epochs=40,\n",
    "                    batch_size=512,\n",
    "                    validation_data=(x_val, y_val),\n",
    "                    verbose=1)"
   ]
  },
  {
   "cell_type": "code",
   "execution_count": 14,
   "metadata": {},
   "outputs": [
    {
     "name": "stdout",
     "output_type": "stream",
     "text": [
      "25000/25000 [==============================] - 1s 28us/step\n",
      "[0.304178744134903, 0.8758]\n"
     ]
    }
   ],
   "source": [
    "results = model.evaluate(test_data, test_labels)\n",
    "\n",
    "print(results)"
   ]
  },
  {
   "cell_type": "code",
   "execution_count": 15,
   "metadata": {},
   "outputs": [
    {
     "data": {
      "text/plain": [
       "dict_keys(['val_loss', 'loss', 'val_acc', 'acc'])"
      ]
     },
     "execution_count": 15,
     "metadata": {},
     "output_type": "execute_result"
    }
   ],
   "source": [
    "history_dict = history.history\n",
    "history_dict.keys()"
   ]
  },
  {
   "cell_type": "code",
   "execution_count": 17,
   "metadata": {},
   "outputs": [
    {
     "data": {
      "text/plain": [
       "<Figure size 640x480 with 1 Axes>"
      ]
     },
     "metadata": {},
     "output_type": "display_data"
    }
   ],
   "source": [
    "import matplotlib.pyplot as plt\n",
    "\n",
    "acc = history.history['acc']\n",
    "val_acc = history.history['val_acc']\n",
    "loss = history.history['loss']\n",
    "val_loss = history.history['val_loss']\n",
    "\n",
    "epochs = range(1, len(acc) + 1)\n",
    "\n",
    "# \"bo\" is for \"blue dot\"\n",
    "plt.plot(epochs, loss, 'bo', label='Training loss')\n",
    "# b is for \"solid blue line\"\n",
    "plt.plot(epochs, val_loss, 'b', label='Validation loss')\n",
    "plt.title('Training and validation loss')\n",
    "plt.xlabel('Epochs')\n",
    "plt.ylabel('Loss')\n",
    "plt.legend()\n",
    "\n",
    "plt.show()"
   ]
  },
  {
   "cell_type": "code",
   "execution_count": 18,
   "metadata": {},
   "outputs": [
    {
     "data": {
      "image/png": "[encoded data removed]",
      "text/plain": [
       "<Figure size 432x288 with 1 Axes>"
      ]
     },
     "metadata": {
      "needs_background": "light"
     },
     "output_type": "display_data"
    }
   ],
   "source": [
    "plt.clf()   # clear figure\n",
    "acc_values = history_dict['acc']\n",
    "val_acc_values = history_dict['val_acc']\n",
    "\n",
    "plt.plot(epochs, acc, 'bo', label='Training acc')\n",
    "plt.plot(epochs, val_acc, 'b', label='Validation acc')\n",
    "plt.title('Training and validation accuracy')\n",
    "plt.xlabel('Epochs')\n",
    "plt.ylabel('Accuracy')\n",
    "plt.legend()\n",
    "\n",
    "plt.show()"
   ]
  },
  {
   "cell_type": "code",
   "execution_count": null,
   "metadata": {},
   "outputs": [],
   "source": []
  }
 ],
 "metadata": {
  "kernelspec": {
   "display_name": "Python 3",
   "language": "python",
   "name": "python3"
  },
  "language_info": {
   "codemirror_mode": {
    "name": "ipython",
    "version": 3
   },
   "file_extension": ".py",
   "mimetype": "text/x-python",
   "name": "python",
   "nbconvert_exporter": "python",
   "pygments_lexer": "ipython3",
   "version": "3.5.2"
  }
 },
 "nbformat": 4,
 "nbformat_minor": 2
}
