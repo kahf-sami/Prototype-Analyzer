{
 "cells": [
  {
   "cell_type": "code",
   "execution_count": 1,
   "metadata": {},
   "outputs": [
    {
     "name": "stdout",
     "output_type": "stream",
     "text": [
      "/notebooks/paper2/packages\n"
     ]
    },
    {
     "name": "stderr",
     "output_type": "stream",
     "text": [
      "[nltk_data] Downloading package punkt to /root/nltk_data...\n",
      "[nltk_data]   Package punkt is already up-to-date!\n",
      "[nltk_data] Downloading package averaged_perceptron_tagger to\n",
      "[nltk_data]     /root/nltk_data...\n",
      "[nltk_data]   Package averaged_perceptron_tagger is already up-to-\n",
      "[nltk_data]       date!\n"
     ]
    },
    {
     "ename": "NameError",
     "evalue": "name 'sys' is not defined",
     "output_type": "error",
     "traceback": [
      "\u001b[0;31m---------------------------------------------------------------------------\u001b[0m",
      "\u001b[0;31mNameError\u001b[0m                                 Traceback (most recent call last)",
      "\u001b[0;32m<ipython-input-1-b7295cc1f0c2>\u001b[0m in \u001b[0;36m<module>\u001b[0;34m\u001b[0m\n\u001b[1;32m      8\u001b[0m \u001b[0mprint\u001b[0m\u001b[0;34m(\u001b[0m\u001b[0mpackagesPath\u001b[0m\u001b[0;34m)\u001b[0m\u001b[0;34m\u001b[0m\u001b[0;34m\u001b[0m\u001b[0m\n\u001b[1;32m      9\u001b[0m \u001b[0;34m\u001b[0m\u001b[0m\n\u001b[0;32m---> 10\u001b[0;31m \u001b[0;32mif\u001b[0m \u001b[0;32mnot\u001b[0m \u001b[0mpackagesPath\u001b[0m \u001b[0;32min\u001b[0m \u001b[0msys\u001b[0m\u001b[0;34m.\u001b[0m\u001b[0mpath\u001b[0m\u001b[0;34m:\u001b[0m\u001b[0;34m\u001b[0m\u001b[0;34m\u001b[0m\u001b[0m\n\u001b[0m\u001b[1;32m     11\u001b[0m     \u001b[0msys\u001b[0m\u001b[0;34m.\u001b[0m\u001b[0mpath\u001b[0m\u001b[0;34m.\u001b[0m\u001b[0mappend\u001b[0m\u001b[0;34m(\u001b[0m\u001b[0mpackagesPath\u001b[0m\u001b[0;34m)\u001b[0m\u001b[0;34m\u001b[0m\u001b[0;34m\u001b[0m\u001b[0m\n\u001b[1;32m     12\u001b[0m \u001b[0;34m\u001b[0m\u001b[0m\n",
      "\u001b[0;31mNameError\u001b[0m: name 'sys' is not defined"
     ]
    }
   ],
   "source": [
    "import nltk\n",
    "nltk.download('punkt')\n",
    "nltk.download('averaged_perceptron_tagger')\n",
    "\n",
    "import os, sys\n",
    "dirPath = os.path.dirname(os.path.realpath(\"__file__\"))\n",
    "packagesPath = os.path.join(dirPath, 'packages')\n",
    "print(packagesPath)\n",
    "\n",
    "if not packagesPath in sys.path:\n",
    "    sys.path.append(packagesPath)\n",
    "    \n",
    "import lc as LC"
   ]
  },
  {
   "cell_type": "code",
   "execution_count": null,
   "metadata": {},
   "outputs": [],
   "source": [
    "text = \"\"\"\n",
    "Brexit: Customs checks to be simplified in no-deal situation.\n",
    "Lorries will be able to drive straight off ferries and Channel Tunnel trains without making customs declarations in the event of a no-deal Brexit, the government has announced.\n",
    "\n",
    "New guidance for importers and hauliers says firms would file a simplified form online in advance and pay duty later.\n",
    "\n",
    "Hauliers have warned that no-deal could result in long queues at Channel ports.\n",
    "\n",
    "The industry said firms would still not be ready for a \"chaotic\" EU exit - even with these simplified procedures.\n",
    "\n",
    "The UK is due to leave the EU at 23:00 GMT on Friday 29 March - with or without a deal.\n",
    "\n",
    "Theresa May has said she is \"determined\" to deliver Brexit on time, but a number of cabinet ministers have indicated they would be willing to agree to a short extension to finalise legislation.\n",
    "\n",
    "Brexit: A really simple guide\n",
    "What preparations are being made for a no-deal?\n",
    "Could a no-deal Brexit cause traffic jams?\n",
    "UK to spend £800k on Eurotunnel Brexit case\n",
    "Under the HM Revenue & Customs (HMRC) plans, what are being called \"transitional simplified procedures\" would be introduced for ferry routes from Europe, and for the Channel Tunnel, for at least a year if the UK leaves without a deal.\n",
    "\n",
    "\n",
    "Media captionUp to 90 lorries assembled at Manston airfield as part of a no-deal Brexit exercise\n",
    "These would allow an importer to file a very short customs form - a \"simplified frontier declaration\" - only two hours before a lorry is due to cross the Channel by ferry, or one hour via the Channel Tunnel.\n",
    "\n",
    "The truck would then be able to drive straight into the UK without any further paperwork being done at the border.\n",
    "\n",
    "The importer would have to update the computer entry within 24 hours to tell HMRC the goods had arrived, and the duty would be payable as much as a month after the shipment had entered the UK.\n",
    "\n",
    "The temporary system would be reviewed after three months, but is expected to last more than a year.\n",
    "\n",
    "The latest guidance applies only to vehicles entering the UK, but additional customs checks may also be introduced for EU-bound lorries arriving at Calais, Coquelles and Dunkirk in the event of no-deal.\n",
    "\n",
    "Charlie Elphicke, the Conservative MP for Dover - home to the UK's busiest Channel port - described the plans as a \"common sense move\".\n",
    "\n",
    "He said he had long argued that \"checks can be done away from the border - so traffic can keep flowing smoothly\".\n",
    "\n",
    "\n",
    "However, Rod McKenzie, from the Road Haulage Association, said the guidance would not help trucking firms.\n",
    "\n",
    "\"Business is simply not ready for a chaotic no-deal Brexit,\" he said.\n",
    "\n",
    "\"The systems aren't in place, the staff are not trained, there isn't the time in the day for hauliers and businesses to do all the paperwork,\" he told the BBC.\n",
    "\n",
    "Last month, a convoy of 89 lorries took part in two runs from the disused Manston Airport, near Ramsgate in Kent, on a 20-mile route to the Port of Dover as part of an exercise to test plans for border disruption in the event of a no-deal Brexit.\n",
    "\n",
    "It emerged on Tuesday that the government plans to pay a law firm £800,000 for advice in case Eurotunnel decides to sue over the effects of Brexit on its business.\n",
    "\"\"\"\n",
    "\n",
    "# Url: https://www.bbc.co.uk/news/uk-47121225\n",
    "# Topics: Dover, HM Revenue & Customs, Charlie Elphicke, Brexit\n"
   ]
  },
  {
   "cell_type": "code",
   "execution_count": null,
   "metadata": {},
   "outputs": [],
   "source": [
    "tsneProcessor = LC.TSNELC(text)\n",
    "tsneProcessor.setAllowedPosTypes(['NN', 'NNP', 'NNS', 'NNPS'])\n",
    "tsneProcessor.setPerplexity(3)\n",
    "tsneProcessor.setNumberOfComponents(3)\n",
    "tsneProcessor.setNumberOfIterations(250)\n",
    "tsneProcessor.setTopScorePercentage(0.5)\n",
    "tsneProcessor.setFilterWords(0.2)\n",
    "tsneProcessor.train()\n",
    "tsneProcessor.displayPlot()"
   ]
  },
  {
   "cell_type": "code",
   "execution_count": null,
   "metadata": {},
   "outputs": [],
   "source": [
    "peripheralProcessor = LC.Peripheral(text)\n",
    "peripheralProcessor.setAllowedPosTypes(['NN', 'NNP', 'NNS', 'NNPS'])\n",
    "peripheralProcessor.setPositionContributingFactor(1)\n",
    "peripheralProcessor.setOccuranceContributingFactor(1)\n",
    "peripheralProcessor.setProperNounContributingFactor(1)\n",
    "peripheralProcessor.setTopScorePercentage(0.5)\n",
    "peripheralProcessor.setFilterWords(0.1)\n",
    "print(peripheralProcessor.getProperNouns())\n",
    "peripheralProcessor.train()\n",
    "peripheralProcessor.displayPlot()"
   ]
  },
  {
   "cell_type": "code",
   "execution_count": null,
   "metadata": {},
   "outputs": [],
   "source": [
    "linearProcessor = LC.Linear(text)\n",
    "linearProcessor.setAllowedPosTypes(['NN', 'NNP', 'NNS', 'NNPS'])\n",
    "linearProcessor.setPositionContributingFactor(1)\n",
    "linearProcessor.setOccuranceContributingFactor(1)\n",
    "linearProcessor.setProperNounContributingFactor(1)\n",
    "linearProcessor.setTopScorePercentage(0.5)\n",
    "linearProcessor.setFilterWords(0.1)\n",
    "linearProcessor.displayPlot()"
   ]
  },
  {
   "cell_type": "code",
   "execution_count": null,
   "metadata": {},
   "outputs": [],
   "source": [
    "print(linearProcessor.getProperNouns())"
   ]
  },
  {
   "cell_type": "code",
   "execution_count": null,
   "metadata": {},
   "outputs": [],
   "source": [
    "print(linearProcessor.getContrinutors())"
   ]
  },
  {
   "cell_type": "code",
   "execution_count": null,
   "metadata": {},
   "outputs": [],
   "source": []
  }
 ],
 "metadata": {
  "kernelspec": {
   "display_name": "Python 3",
   "language": "python",
   "name": "python3"
  },
  "language_info": {
   "codemirror_mode": {
    "name": "ipython",
    "version": 3
   },
   "file_extension": ".py",
   "mimetype": "text/x-python",
   "name": "python",
   "nbconvert_exporter": "python",
   "pygments_lexer": "ipython3",
   "version": "3.6.7"
  }
 },
 "nbformat": 4,
 "nbformat_minor": 2
}
