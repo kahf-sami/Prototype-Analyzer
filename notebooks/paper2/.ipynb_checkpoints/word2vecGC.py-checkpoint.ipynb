{
 "cells": [
  {
   "cell_type": "code",
   "execution_count": 1,
   "metadata": {},
   "outputs": [
    {
     "name": "stdout",
     "output_type": "stream",
     "text": [
      "/notebooks/paper2/packages\n"
     ]
    },
    {
     "name": "stderr",
     "output_type": "stream",
     "text": [
      "[nltk_data] Downloading package punkt to /root/nltk_data...\n",
      "[nltk_data]   Package punkt is already up-to-date!\n",
      "[nltk_data] Downloading package averaged_perceptron_tagger to\n",
      "[nltk_data]     /root/nltk_data...\n",
      "[nltk_data]   Package averaged_perceptron_tagger is already up-to-\n",
      "[nltk_data]       date!\n"
     ]
    }
   ],
   "source": [
    "import sys, os, json, re\n",
    "\n",
    "import nltk\n",
    "nltk.download('punkt')\n",
    "nltk.download('averaged_perceptron_tagger')\n",
    "\n",
    "dirPath = os.path.dirname(os.path.realpath(\"__file__\"))\n",
    "packagesPath = os.path.join(dirPath, 'packages')\n",
    "print(packagesPath)\n",
    "\n",
    "if not packagesPath in sys.path:\n",
    "    sys.path.append(packagesPath)\n",
    "    \n",
    "# IPython extension to reload modules before executing user code.\n",
    "# autoreload reloads modules automatically before entering the execution of code typed at the IPython prompt.\n",
    "%reload_ext autoreload\n",
    "%autoreload 2"
   ]
  },
  {
   "cell_type": "code",
   "execution_count": 2,
   "metadata": {},
   "outputs": [
    {
     "name": "stdout",
     "output_type": "stream",
     "text": [
      "Dataset path:\n",
      "/notebooks/paper2/datasets/brexit\n",
      "Total files 49\n",
      "-------------------------------\n",
      "Training file count:  39\n",
      "Total files in list:  39\n",
      "-------------------------------\n",
      "Total validation file count 4\n",
      "Total files in list:  4\n",
      "-------------------------------\n",
      "Total test file count 6\n",
      "Total files in list:  6\n",
      "-------------------------------\n"
     ]
    }
   ],
   "source": [
    "import packages.dataset as dataset\n",
    "\n",
    "datasetPath = os.path.join(dirPath, 'datasets')\n",
    "dataProcessor = dataset.Brexit(datasetPath)\n",
    "dataProcessor.loadFilePaths()"
   ]
  },
  {
   "cell_type": "code",
   "execution_count": 3,
   "metadata": {},
   "outputs": [],
   "source": [
    "from packages.gc.word2vec import Word2Vec\n",
    "word2vecProcessor = Word2Vec(dataProcessor)\n",
    "#word2vecProcessor.train()\n",
    "\n",
    "skipWindow = 2\n",
    "word2vecProcessor.resetIndex()\n",
    "word2vecProcessor.setSkipWindow(skipWindow)\n",
    "word2vecProcessor.setBatchSize(128)"
   ]
  },
  {
   "cell_type": "code",
   "execution_count": 4,
   "metadata": {},
   "outputs": [
    {
     "name": "stdout",
     "output_type": "stream",
     "text": [
      "The skip-gram pairs : target,context\n"
     ]
    },
    {
     "ename": "NameError",
     "evalue": "name 'x_batch' is not defined",
     "output_type": "error",
     "traceback": [
      "\u001b[0;31m---------------------------------------------------------------------------\u001b[0m",
      "\u001b[0;31mNameError\u001b[0m                                 Traceback (most recent call last)",
      "\u001b[0;32m<ipython-input-4-c6b5d4bf375e>\u001b[0m in \u001b[0;36m<module>\u001b[0;34m\u001b[0m\n\u001b[1;32m      2\u001b[0m \u001b[0mprint\u001b[0m\u001b[0;34m(\u001b[0m\u001b[0;34m'The skip-gram pairs : target,context'\u001b[0m\u001b[0;34m)\u001b[0m\u001b[0;34m\u001b[0m\u001b[0;34m\u001b[0m\u001b[0m\n\u001b[1;32m      3\u001b[0m \u001b[0;32mfor\u001b[0m \u001b[0mi\u001b[0m \u001b[0;32min\u001b[0m \u001b[0mrange\u001b[0m\u001b[0;34m(\u001b[0m\u001b[0;36m100\u001b[0m\u001b[0;34m)\u001b[0m\u001b[0;34m:\u001b[0m\u001b[0;34m\u001b[0m\u001b[0;34m\u001b[0m\u001b[0m\n\u001b[0;32m----> 4\u001b[0;31m     print('(', x_batch[i], word2vecProcessor.id2Word[x_batch[i]],\n\u001b[0m\u001b[1;32m      5\u001b[0m           ',', y_batch[i], word2vecProcessor.id2Word[y_batch[i]], ')')\n",
      "\u001b[0;31mNameError\u001b[0m: name 'x_batch' is not defined"
     ]
    }
   ],
   "source": [
    "\n",
    "#print('The skip-gram pairs : target,context')\n",
    "#for i in range(100):\n",
    "#    print('(', x_batch[i], word2vecProcessor.id2Word[x_batch[i]],\n",
    "#          ',', y_batch[i], word2vecProcessor.id2Word[y_batch[i]], ')')\n"
   ]
  },
  {
   "cell_type": "code",
   "execution_count": null,
   "metadata": {},
   "outputs": [],
   "source": [
    "word2vecProcessor.train()"
   ]
  },
  {
   "cell_type": "code",
   "execution_count": null,
   "metadata": {},
   "outputs": [],
   "source": []
  }
 ],
 "metadata": {
  "kernelspec": {
   "display_name": "Python 3",
   "language": "python",
   "name": "python3"
  },
  "language_info": {
   "codemirror_mode": {
    "name": "ipython",
    "version": 3
   },
   "file_extension": ".py",
   "mimetype": "text/x-python",
   "name": "python",
   "nbconvert_exporter": "python",
   "pygments_lexer": "ipython3",
   "version": "3.6.7"
  }
 },
 "nbformat": 4,
 "nbformat_minor": 2
}
