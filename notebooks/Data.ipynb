{
 "cells": [
  {
   "cell_type": "markdown",
   "metadata": {},
   "source": [
    "References: https://www.tensorflow.org/guide/datasets"
   ]
  },
  {
   "cell_type": "code",
   "execution_count": 1,
   "metadata": {},
   "outputs": [
    {
     "name": "stdout",
     "output_type": "stream",
     "text": [
      "[ 0  1  2  3  4  5  6  7  8  9 10 11 12 13 14 15 16 17 18 19 20 21 22 23\n",
      " 24 25 26 27 28 29 30 31 32 33 34 35 36 37 38 39 40 41 42 43 44 45 46 47\n",
      " 48 49 50 51 52 53 54 55 56 57 58 59 60 61 62 63 64 65 66 67 68 69 70 71\n",
      " 72 73 74 75 76 77 78 79 80 81 82 83 84 85 86 87 88 89 90 91 92 93 94 95\n",
      " 96 97 98 99]\n"
     ]
    }
   ],
   "source": [
    "import numpy as np\n",
    "import tensorflow as tf\n",
    "x = np.arange(0, 100)\n",
    "print(x)"
   ]
  },
  {
   "cell_type": "code",
   "execution_count": 2,
   "metadata": {},
   "outputs": [
    {
     "name": "stdout",
     "output_type": "stream",
     "text": [
      "<TensorSliceDataset shapes: (), types: tf.int64>\n"
     ]
    }
   ],
   "source": [
    "# create dataset object from numpy array\n",
    "dx = tf.data.Dataset.from_tensor_slices(x)\n",
    "print(dx)"
   ]
  },
  {
   "cell_type": "code",
   "execution_count": 3,
   "metadata": {},
   "outputs": [],
   "source": [
    "# create a one-shot iterator\n",
    "iterator = dx.make_one_shot_iterator()\n",
    "# extract an element\n",
    "next_element = iterator.get_next()"
   ]
  },
  {
   "cell_type": "code",
   "execution_count": 4,
   "metadata": {},
   "outputs": [
    {
     "name": "stdout",
     "output_type": "stream",
     "text": [
      "0\n",
      "1\n",
      "2\n",
      "3\n",
      "4\n",
      "5\n",
      "6\n",
      "7\n",
      "8\n",
      "9\n",
      "10\n"
     ]
    }
   ],
   "source": [
    "with tf.Session() as sess:\n",
    "    for i in range(11):\n",
    "        val = sess.run(next_element)\n",
    "        print(val)"
   ]
  },
  {
   "cell_type": "code",
   "execution_count": 33,
   "metadata": {},
   "outputs": [
    {
     "name": "stdout",
     "output_type": "stream",
     "text": [
      "[5 6 7 8 9]\n",
      "Calling init\n",
      "5\n",
      "6\n",
      "7\n",
      "8\n",
      "9\n",
      "Calling init\n",
      "5\n",
      "6\n",
      "7\n",
      "8\n",
      "9\n",
      "Calling init\n",
      "5\n",
      "6\n",
      "7\n",
      "8\n",
      "9\n"
     ]
    }
   ],
   "source": [
    "y = np.arange(5, 10)\n",
    "print(y)\n",
    "dy = tf.data.Dataset.from_tensor_slices(y)\n",
    "iterator2 = dy.make_initializable_iterator()\n",
    "next_element2 = iterator2.get_next()\n",
    "with tf.Session() as sess:\n",
    "    #ssess.run(iterator2.initializer)\n",
    "    for i in range(0, 15):\n",
    "        if (i % 5 == 0):\n",
    "            print('Calling init')\n",
    "            sess.run(iterator2.initializer)\n",
    "          \n",
    "        val = sess.run(next_element2)\n",
    "        print(val) \n",
    "        "
   ]
  },
  {
   "cell_type": "code",
   "execution_count": 42,
   "metadata": {},
   "outputs": [
    {
     "name": "stdout",
     "output_type": "stream",
     "text": [
      "[5 6 7]\n",
      "[ 8  9 10]\n",
      "Calling\n",
      "[5 6 7]\n",
      "[ 8  9 10]\n",
      "Calling\n",
      "[5 6 7]\n",
      "[ 8  9 10]\n",
      "Calling\n",
      "[5 6 7]\n",
      "[ 8  9 10]\n",
      "Calling\n",
      "[5 6 7]\n",
      "[ 8  9 10]\n",
      "Calling\n",
      "[5 6 7]\n",
      "[ 8  9 10]\n",
      "Calling\n",
      "[5 6 7]\n",
      "[ 8  9 10]\n",
      "Calling\n"
     ]
    }
   ],
   "source": [
    "x3 = np.arange(5, 11)\n",
    "dx3 = tf.data.Dataset.from_tensor_slices(x3).batch(3)\n",
    "iterator3 = dx3.make_initializable_iterator()\n",
    "next_element3 = iterator3.get_next()\n",
    "\n",
    "with tf.Session() as sess:\n",
    "    sess.run(iterator3.initializer)\n",
    "    for i in range(1, 15):\n",
    "        val = sess.run(next_element3)\n",
    "        print(val)\n",
    "        \n",
    "        if ((i * 3) % 6) == 0:\n",
    "            print('Calling')\n",
    "            sess.run(iterator3.initializer)"
   ]
  },
  {
   "cell_type": "code",
   "execution_count": 53,
   "metadata": {},
   "outputs": [
    {
     "name": "stdout",
     "output_type": "stream",
     "text": [
      "1010\n",
      "(array([0, 1]), array([100, 101]))\n",
      "(array([2, 3]), array([102, 103]))\n",
      "(array([4, 5]), array([104, 105]))\n",
      "(array([6, 7]), array([106, 107]))\n",
      "(array([8, 9]), array([108, 109]))\n",
      "(array([0, 1]), array([100, 101]))\n",
      "(array([2, 3]), array([102, 103]))\n",
      "(array([4, 5]), array([104, 105]))\n",
      "(array([6, 7]), array([106, 107]))\n",
      "(array([8, 9]), array([108, 109]))\n",
      "(array([0, 1]), array([100, 101]))\n",
      "(array([2, 3]), array([102, 103]))\n",
      "(array([4, 5]), array([104, 105]))\n",
      "(array([6, 7]), array([106, 107]))\n",
      "(array([8, 9]), array([108, 109]))\n",
      "(array([0, 1]), array([100, 101]))\n",
      "(array([2, 3]), array([102, 103]))\n",
      "(array([4, 5]), array([104, 105]))\n",
      "(array([6, 7]), array([106, 107]))\n"
     ]
    }
   ],
   "source": [
    "x4 = np.arange(0, 10)\n",
    "y4 = np.arange(100, 110)\n",
    "print(str(len(x4)) + str(len(y4)))\n",
    "# create dataset objects from the arrays\n",
    "dx4 = tf.data.Dataset.from_tensor_slices(x4)\n",
    "dy4 = tf.data.Dataset.from_tensor_slices(y4)\n",
    "# zip the two datasets together\n",
    "dcomb = tf.data.Dataset.zip((dx4, dy4)).repeat().batch(2)\n",
    "iterator4 = dcomb.make_initializable_iterator()\n",
    "# extract an element\n",
    "next_element4 = iterator4.get_next()\n",
    "with tf.Session() as sess:\n",
    "    sess.run(iterator4.initializer)\n",
    "    for i in range(1, 20):\n",
    "        '''\n",
    "        if (((i * 2) % 20) == 0) or (i == 1):\n",
    "            print('Calling')\n",
    "            sess.run(iterator4.initializer)\n",
    "        '''\n",
    "        val = sess.run(next_element4)\n",
    "        print(val)\n",
    "        "
   ]
  },
  {
   "cell_type": "code",
   "execution_count": null,
   "metadata": {},
   "outputs": [],
   "source": []
  }
 ],
 "metadata": {
  "kernelspec": {
   "display_name": "Python 3",
   "language": "python",
   "name": "python3"
  },
  "language_info": {
   "codemirror_mode": {
    "name": "ipython",
    "version": 3
   },
   "file_extension": ".py",
   "mimetype": "text/x-python",
   "name": "python",
   "nbconvert_exporter": "python",
   "pygments_lexer": "ipython3",
   "version": "3.5.2"
  }
 },
 "nbformat": 4,
 "nbformat_minor": 2
}
